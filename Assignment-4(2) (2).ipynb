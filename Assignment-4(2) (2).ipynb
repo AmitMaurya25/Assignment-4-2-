{
 "cells": [
  {
   "cell_type": "code",
   "execution_count": null,
   "id": "363b9986-e086-45da-a7b1-221240fe02b3",
   "metadata": {},
   "outputs": [],
   "source": [
    "#Question 1---------------------------------------------------------------------------------------------------->>\n",
    "\n",
    "In object-oriented programming (OOP), a class is a blueprint or a template that defines the attributes (data)\n",
    "and behaviors (methods) that objects of that class will have. It provides a structure for creating objects with \n",
    "predefined properties and functionality.\n",
    "\n",
    "An object, on the other hand, is an instance of a class. It represents a specific entity or concept that has\n",
    "state (attributes) and behavior (methods) defined by the class. \n",
    "Objects are created using the class as a blueprint and can interact with each other by invoking their methods or accessing their attributes.\n",
    "\n",
    "Let's consider an example to illustrate the concepts of class and object:\n",
    "\n",
    "\n",
    "class Car:\n",
    "    def __init__(self, brand, model, year):\n",
    "        self.brand = brand\n",
    "        self.model = model\n",
    "        self.year = year\n",
    "\n",
    "    def start_engine(self):\n",
    "        print(\"Engine started!\")\n",
    "\n",
    "    def stop_engine(self):\n",
    "        print(\"Engine stopped!\")\n",
    "\n",
    "car1 = Car(\"Toyota\", \"Camry\", 2022)\n",
    "car2 = Car(\"Honda\", \"Accord\", 2021)\n",
    "\n",
    "print(car1.brand)   # Output: Toyota\n",
    "print(car2.model)   # Output: Accord\n",
    "\n",
    "car1.start_engine()  # Output: Engine started!\n",
    "car2.stop_engine()   # Output: Engine stopped!"
   ]
  },
  {
   "cell_type": "code",
   "execution_count": null,
   "id": "bde6773e-c988-4c49-8685-a5da4f14dd96",
   "metadata": {},
   "outputs": [],
   "source": [
    "#Question 2---------------------------------------------------------------------------------------------------->>\n",
    "\n",
    "The four pillars of Object-Oriented Programming (OOP) are:\n",
    "\n",
    "1-Encapsulation:\n",
    "2-Inheritance: \n",
    "3-Polymorphism: \n",
    "4-Abstraction: "
   ]
  },
  {
   "cell_type": "code",
   "execution_count": null,
   "id": "9118300c-fc43-4e6f-9e8a-45cb780270a7",
   "metadata": {},
   "outputs": [],
   "source": [
    "#Question 3---------------------------------------------------------------------------------------------------->>\n",
    "\n",
    "In Python, the __init__() function is a special method used as a constructor in classes. \n",
    "It is automatically called when an object of a class is created. \n",
    "The purpose of the __init__() function is to initialize the attributes or properties of an object and perform any necessary setup or initialization tasks."
   ]
  },
  {
   "cell_type": "code",
   "execution_count": null,
   "id": "4b4d6fcf-35e0-4c3c-9b3f-6df97f278318",
   "metadata": {},
   "outputs": [],
   "source": [
    "#Question 4---------------------------------------------------------------------------------------------------->>\n",
    "\n",
    "In object-oriented programming (OOP), the term \"self\" is used to refer to the instance of a class within the class itself.\n",
    "It is a reference to the current object being manipulated or accessed.\n",
    "\n"
   ]
  },
  {
   "cell_type": "code",
   "execution_count": null,
   "id": "2c9d58d7-a8e7-4a0a-8f32-047d61c433e6",
   "metadata": {},
   "outputs": [],
   "source": [
    "#Question 5---------------------------------------------------------------------------------------------------->>\n",
    "\n",
    "Inheritance is a fundamental concept in object-oriented programming (OOP) \n",
    "that allows a class to inherit properties and behaviors from another class, \n",
    "known as the base or parent class. The class that inherits from the parent class is called the derived or child class. \n",
    "This relationship between classes is often referred to as an \"is-a\" relationship, \n",
    "as the derived class is a specialized version of the parent class.\n",
    "\n",
    "class Flyer:\n",
    "    def fly(self):\n",
    "        print(\"Flyer is flying.\")\n",
    "\n",
    "class Swimmer:\n",
    "    def swim(self):\n",
    "        print(\"Swimmer is swimming.\")\n",
    "\n",
    "class Duck(Flyer, Swimmer):\n",
    "    def quack(self):\n",
    "        print(\"Duck is quacking.\")\n",
    "\n",
    "# Example usage\n",
    "duck = Duck()\n",
    "duck.fly()  # Inherited from the Flyer class\n",
    "duck.swim()  # Inherited from the Swimmer class\n",
    "duck.quack()  # Defined in the Duck class\n"
   ]
  }
 ],
 "metadata": {
  "kernelspec": {
   "display_name": "Python 3 (ipykernel)",
   "language": "python",
   "name": "python3"
  },
  "language_info": {
   "codemirror_mode": {
    "name": "ipython",
    "version": 3
   },
   "file_extension": ".py",
   "mimetype": "text/x-python",
   "name": "python",
   "nbconvert_exporter": "python",
   "pygments_lexer": "ipython3",
   "version": "3.10.8"
  }
 },
 "nbformat": 4,
 "nbformat_minor": 5
}
